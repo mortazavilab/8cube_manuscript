{
 "cells": [
  {
   "cell_type": "code",
   "execution_count": 1,
   "id": "cee4d2d6-e3f3-4726-942f-7be06118cc08",
   "metadata": {},
   "outputs": [
    {
     "name": "stderr",
     "output_type": "stream",
     "text": [
      "<frozen importlib._bootstrap>:219: RuntimeWarning: scipy._lib.messagestream.MessageStream size changed, may indicate binary incompatibility. Expected 56 from C header, got 64 from PyObject\n"
     ]
    }
   ],
   "source": [
    "from config_004 import *\n",
    "from parsing_utils import *\n",
    "from plotting_utils import *\n",
    "from pdf_report import *\n",
    "\n",
    "import pandas as pd\n",
    "import os\n"
   ]
  },
  {
   "cell_type": "code",
   "execution_count": 2,
   "id": "d6dd2e52-a4dd-4f48-adce-c139741cdd88",
   "metadata": {},
   "outputs": [
    {
     "name": "stderr",
     "output_type": "stream",
     "text": [
      "/tmp/ipykernel_736618/2045325240.py:29: DtypeWarning: Columns (24,25,50) have mixed types. Specify dtype option on import or set low_memory=False.\n",
      "  adata_obs = pd.read_csv(obs_path)\n",
      "/share/crsp/lab/seyedam/share/8cube_paper/plate_report/parsing_utils.py:183: DtypeWarning: Columns (24,25,29,35,53) have mixed types. Specify dtype option on import or set low_memory=False.\n",
      "  df = pd.read_csv(filepath)\n",
      "/share/crsp/lab/seyedam/share/8cube_paper/plate_report/parsing_utils.py:183: DtypeWarning: Columns (24,25,35) have mixed types. Specify dtype option on import or set low_memory=False.\n",
      "  df = pd.read_csv(filepath)\n"
     ]
    }
   ],
   "source": [
    "# Load data\n",
    "sample_df = parse_sample_df(sample_metadata_path)\n",
    "config_df = pd.read_csv(config_path, sep='\\t')\n",
    "sample_df = sample_df[sample_df['plate'] == plate]\n",
    "   \n",
    "# Subpool setup\n",
    "subpools = get_subpools(config_df, plate)\n",
    "\n",
    "# Determine color mapping\n",
    "color_by = 'Tissue' if sample_df['Tissue'].nunique() > sample_df['Genotype'].nunique() else 'genotype'\n",
    "color_dict = get_color_dict(sample_df, color_by)\n",
    "\n",
    "# Plot plate map\n",
    "plate_map_path = plot_plate_map(sample_df, color_by, color_dict)\n",
    "\n",
    "# Alignment stats\n",
    "align_df = load_alignment_stats(plate, subpools)\n",
    "\n",
    "# QC summary tables\n",
    "qc_200umi, qc_500umi = load_qc_stats(plate, subpools, sampletype)\n",
    "\n",
    "# Cell counts\n",
    "formatted_counts = summarize_cell_counts(qc_200umi, qc_500umi, align_df, sampletype)\n",
    "\n",
    "# Generate knee plot\n",
    "knee_plot_path = plot_knee_raw_counts(plate, subpools)\n",
    "\n",
    "# Load obs table\n",
    "adata_obs = pd.read_csv(obs_path)\n",
    "\n",
    "# Heatmaps\n",
    "hmap_paths = [create_round_heatmap(adata_obs, round_col, kit, sampletype) for round_col in ['bc1_well', 'bc2_well', 'bc3_well']]\n",
    "\n",
    "# Cellbender\n",
    "cb_results_df = load_cellbender_stats(plate, subpools, sampletype)\n",
    "cb_settings_df = load_cellbender_settings(plate, subpools)\n",
    "cb_knee_path = plot_knee_cb(adata_obs)\n",
    "\n",
    "# Violin plots\n",
    "violin1_path, violin2_path = plot_qc_violins(adata_obs)\n",
    "adata_obs_filt = filter_obs(adata_obs, min_counts, max_counts, min_genes, pct_counts_mt, doublet_score)\n",
    "violin_filt1, violin_filt2 = plot_qc_violins_filtered(adata_obs_filt)\n",
    "\n",
    "# Cell type stacked barplots\n",
    "combined_obs = load_combined_obs(sample_df)\n",
    "main_tiss = extract_main_tissue(combined_obs, plate)\n",
    "multi_tiss = extract_mult_tissue(combined_obs, plate)\n",
    "main_celltype_path = plot_stacked_main(combined_obs, main_tiss, \"plots/sample_celltype_proportions_main.png\")\n",
    "mult_celltype_path = plot_stacked_mult(combined_obs, multi_tiss, \"plots/sample_celltype_proportions_mult.png\")\n",
    "\n",
    "# Barcode map\n",
    "barcode_map_df = create_barcode_sample_map(plate, kit, chemistry)\n",
    "\n"
   ]
  },
  {
   "cell_type": "code",
   "execution_count": 3,
   "id": "140b4b13-89b1-469b-b820-80983c37ac03",
   "metadata": {},
   "outputs": [],
   "source": [
    "# Create report\n",
    "elements = build_pdf_report(\n",
    "    plate,\n",
    "    config_df,\n",
    "    kit,\n",
    "    chemistry,\n",
    "    sample_df,\n",
    "    subpools,\n",
    "    color_by,\n",
    "    plate_map_path,\n",
    "    align_df,\n",
    "    formatted_counts,\n",
    "    qc_200umi,\n",
    "    qc_500umi,\n",
    "    knee_plot_path,\n",
    "    hmap_paths,\n",
    "    cb_settings_df,\n",
    "    cb_results_df,\n",
    "    cb_knee_path, \n",
    "    violin1_path,\n",
    "    violin2_path,\n",
    "    violin_filt1,\n",
    "    violin_filt2,\n",
    "    main_celltype_path,\n",
    "    mult_celltype_path,\n",
    "    barcode_map_df,\n",
    "    adata_obs,\n",
    "    adata_obs_filt,\n",
    "    combined_obs,\n",
    "    main_tiss,\n",
    "    multi_tiss,\n",
    "    sampletype,\n",
    "    min_counts, \n",
    "    min_genes, \n",
    "    max_counts, \n",
    "    pct_counts_mt, \n",
    "    doublet_score\n",
    ")\n",
    "\n",
    "\n"
   ]
  },
  {
   "cell_type": "code",
   "execution_count": 4,
   "id": "b659b504-fa1e-45a8-a548-09db9bc32164",
   "metadata": {},
   "outputs": [
    {
     "name": "stdout",
     "output_type": "stream",
     "text": [
      "Report saved as igvf_004/igvf_004_report.pdf\n"
     ]
    }
   ],
   "source": [
    "# Save PDF\n",
    "doc = create_pdf_doc(plate)\n",
    "doc.build(elements)\n",
    "print(f\"Report saved as {doc.filename}\")\n"
   ]
  },
  {
   "cell_type": "code",
   "execution_count": null,
   "id": "64ef2bd0-355d-44cb-979f-e5298537ca83",
   "metadata": {},
   "outputs": [],
   "source": []
  }
 ],
 "metadata": {
  "kernelspec": {
   "display_name": "Python 3 (ipykernel)",
   "language": "python",
   "name": "python3"
  },
  "language_info": {
   "codemirror_mode": {
    "name": "ipython",
    "version": 3
   },
   "file_extension": ".py",
   "mimetype": "text/x-python",
   "name": "python",
   "nbconvert_exporter": "python",
   "pygments_lexer": "ipython3",
   "version": "3.8.0"
  }
 },
 "nbformat": 4,
 "nbformat_minor": 5
}
